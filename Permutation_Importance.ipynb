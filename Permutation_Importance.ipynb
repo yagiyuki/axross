{
  "nbformat": 4,
  "nbformat_minor": 0,
  "metadata": {
    "colab": {
      "name": "Permutation_Importance.ipynb",
      "provenance": [],
      "collapsed_sections": [],
      "toc_visible": true,
      "mount_file_id": "1_QnzhlPHYkHa51qiL_LFiN3-FgTO-euc",
      "authorship_tag": "ABX9TyPhbVCBWMsoQbDaeT3V2Wl8",
      "include_colab_link": true
    },
    "kernelspec": {
      "name": "python3",
      "display_name": "Python 3"
    },
    "language_info": {
      "name": "python"
    }
  },
  "cells": [
    {
      "cell_type": "markdown",
      "metadata": {
        "id": "view-in-github",
        "colab_type": "text"
      },
      "source": [
        "<a href=\"https://colab.research.google.com/github/yagiyuki/axross/blob/main/Permutation_Importance.ipynb\" target=\"_parent\"><img src=\"https://colab.research.google.com/assets/colab-badge.svg\" alt=\"Open In Colab\"/></a>"
      ]
    },
    {
      "cell_type": "markdown",
      "metadata": {
        "id": "56cdrdoMafwX"
      },
      "source": [
        "# Permutation Importanceを活用した特徴量の重要度評価のレシピ\n",
        "\n",
        "## レシピの概要\n",
        "\n",
        "このレシピでは、機械学習における特徴量の重要度評価手法として、Permutation Importanceを紹介します。\n",
        "\n",
        "機械学習の特徴量の重要度評価は、Feature Importanceによるものが有名です。   \n",
        "<Google Trend 図>\n",
        "しかし、Permutation ImportanceにはFeature Importanceには無い利点があります。\n",
        "\n",
        "このレシピでは、Feature Importanceとの比較をしつつ、  Permutation Importanceによる特徴量の重要度評価を学んでいきます。\n",
        "\n",
        "## 前提知識\n",
        "* python (基本構文であるif, for などが理解できる。)\n",
        "* sklearn, pandasなどのライブラリを扱える(写経できる)\n",
        "* 機械学習の教師あり学習の概念がわかる\n",
        "\n",
        "## 学べること\n",
        "\n",
        "* \"Feature Importance\"と\"Permutation Importance\"による特徴量の重要度評価・可視化の方法\n",
        "* \"Permutation Importance\"を活用した精度改善の方法\n"
      ]
    },
    {
      "cell_type": "markdown",
      "metadata": {
        "id": "Ne567g25GkJV"
      },
      "source": [
        "## 材料・道具\n",
        "\n",
        "### 実行環境\n",
        "Google Colaboratory\n",
        "\n",
        "### 道具\n",
        "* python\n",
        "* pandas\n",
        "* matplotlib\n",
        "* seaborn\n",
        "* numpy\n",
        "* scipy\n",
        "* sklearn\n",
        "\n",
        "## 材料\n",
        "学習・評価データとして、タイタニック号のデータを使います。  \n",
        "https://github.com/mwaskom/seaborn-data/blob/master/titanic.csv"
      ]
    },
    {
      "cell_type": "markdown",
      "metadata": {
        "id": "nyBA4-oEclOv"
      },
      "source": [
        "## 必要なモジュールのImport"
      ]
    },
    {
      "cell_type": "code",
      "metadata": {
        "id": "Gj5Z5CzVOrL0"
      },
      "source": [
        "# 必要モジュールのImport\n",
        "import pandas as pd\n",
        "import seaborn as sns\n",
        "import numpy as np\n",
        "import matplotlib.pyplot as plt\n",
        "\n",
        "from sklearn.model_selection import train_test_split\n",
        "from sklearn.preprocessing import LabelEncoder\n",
        "from sklearn.ensemble import RandomForestClassifier\n",
        "from sklearn.metrics import accuracy_score\n",
        "from sklearn.inspection import permutation_importance"
      ],
      "execution_count": 16,
      "outputs": []
    },
    {
      "cell_type": "markdown",
      "metadata": {
        "id": "B1y5aHa92Eh7"
      },
      "source": [
        "## データの取得・前処理\n",
        "\n",
        "評価に使うタイタニック号のデータの取得と前処理をします。"
      ]
    },
    {
      "cell_type": "code",
      "metadata": {
        "colab": {
          "base_uri": "https://localhost:8080/",
          "height": 142
        },
        "id": "C3JyAamSaMpH",
        "outputId": "aca41778-8598-4a32-8273-3abd0ec28664"
      },
      "source": [
        "# タイタニックのデータ号のデータ取得\n",
        "df = sns.load_dataset('titanic')\n",
        "# 上位3件\n",
        "df.head(3)"
      ],
      "execution_count": 17,
      "outputs": [
        {
          "output_type": "execute_result",
          "data": {
            "text/html": [
              "<div>\n",
              "<style scoped>\n",
              "    .dataframe tbody tr th:only-of-type {\n",
              "        vertical-align: middle;\n",
              "    }\n",
              "\n",
              "    .dataframe tbody tr th {\n",
              "        vertical-align: top;\n",
              "    }\n",
              "\n",
              "    .dataframe thead th {\n",
              "        text-align: right;\n",
              "    }\n",
              "</style>\n",
              "<table border=\"1\" class=\"dataframe\">\n",
              "  <thead>\n",
              "    <tr style=\"text-align: right;\">\n",
              "      <th></th>\n",
              "      <th>survived</th>\n",
              "      <th>pclass</th>\n",
              "      <th>sex</th>\n",
              "      <th>age</th>\n",
              "      <th>sibsp</th>\n",
              "      <th>parch</th>\n",
              "      <th>fare</th>\n",
              "      <th>embarked</th>\n",
              "      <th>class</th>\n",
              "      <th>who</th>\n",
              "      <th>adult_male</th>\n",
              "      <th>deck</th>\n",
              "      <th>embark_town</th>\n",
              "      <th>alive</th>\n",
              "      <th>alone</th>\n",
              "    </tr>\n",
              "  </thead>\n",
              "  <tbody>\n",
              "    <tr>\n",
              "      <th>0</th>\n",
              "      <td>0</td>\n",
              "      <td>3</td>\n",
              "      <td>male</td>\n",
              "      <td>22.0</td>\n",
              "      <td>1</td>\n",
              "      <td>0</td>\n",
              "      <td>7.2500</td>\n",
              "      <td>S</td>\n",
              "      <td>Third</td>\n",
              "      <td>man</td>\n",
              "      <td>True</td>\n",
              "      <td>NaN</td>\n",
              "      <td>Southampton</td>\n",
              "      <td>no</td>\n",
              "      <td>False</td>\n",
              "    </tr>\n",
              "    <tr>\n",
              "      <th>1</th>\n",
              "      <td>1</td>\n",
              "      <td>1</td>\n",
              "      <td>female</td>\n",
              "      <td>38.0</td>\n",
              "      <td>1</td>\n",
              "      <td>0</td>\n",
              "      <td>71.2833</td>\n",
              "      <td>C</td>\n",
              "      <td>First</td>\n",
              "      <td>woman</td>\n",
              "      <td>False</td>\n",
              "      <td>C</td>\n",
              "      <td>Cherbourg</td>\n",
              "      <td>yes</td>\n",
              "      <td>False</td>\n",
              "    </tr>\n",
              "    <tr>\n",
              "      <th>2</th>\n",
              "      <td>1</td>\n",
              "      <td>3</td>\n",
              "      <td>female</td>\n",
              "      <td>26.0</td>\n",
              "      <td>0</td>\n",
              "      <td>0</td>\n",
              "      <td>7.9250</td>\n",
              "      <td>S</td>\n",
              "      <td>Third</td>\n",
              "      <td>woman</td>\n",
              "      <td>False</td>\n",
              "      <td>NaN</td>\n",
              "      <td>Southampton</td>\n",
              "      <td>yes</td>\n",
              "      <td>True</td>\n",
              "    </tr>\n",
              "  </tbody>\n",
              "</table>\n",
              "</div>"
            ],
            "text/plain": [
              "   survived  pclass     sex   age  ...  deck  embark_town  alive  alone\n",
              "0         0       3    male  22.0  ...   NaN  Southampton     no  False\n",
              "1         1       1  female  38.0  ...     C    Cherbourg    yes  False\n",
              "2         1       3  female  26.0  ...   NaN  Southampton    yes   True\n",
              "\n",
              "[3 rows x 15 columns]"
            ]
          },
          "metadata": {
            "tags": []
          },
          "execution_count": 17
        }
      ]
    },
    {
      "cell_type": "code",
      "metadata": {
        "colab": {
          "base_uri": "https://localhost:8080/"
        },
        "id": "8-VJNXxmwtOn",
        "outputId": "a0eeea29-f10b-4d10-8904-e8105fe6a422"
      },
      "source": [
        "df.info()"
      ],
      "execution_count": 18,
      "outputs": [
        {
          "output_type": "stream",
          "text": [
            "<class 'pandas.core.frame.DataFrame'>\n",
            "RangeIndex: 891 entries, 0 to 890\n",
            "Data columns (total 15 columns):\n",
            " #   Column       Non-Null Count  Dtype   \n",
            "---  ------       --------------  -----   \n",
            " 0   survived     891 non-null    int64   \n",
            " 1   pclass       891 non-null    int64   \n",
            " 2   sex          891 non-null    object  \n",
            " 3   age          714 non-null    float64 \n",
            " 4   sibsp        891 non-null    int64   \n",
            " 5   parch        891 non-null    int64   \n",
            " 6   fare         891 non-null    float64 \n",
            " 7   embarked     889 non-null    object  \n",
            " 8   class        891 non-null    category\n",
            " 9   who          891 non-null    object  \n",
            " 10  adult_male   891 non-null    bool    \n",
            " 11  deck         203 non-null    category\n",
            " 12  embark_town  889 non-null    object  \n",
            " 13  alive        891 non-null    object  \n",
            " 14  alone        891 non-null    bool    \n",
            "dtypes: bool(2), category(2), float64(2), int64(4), object(5)\n",
            "memory usage: 80.6+ KB\n"
          ],
          "name": "stdout"
        }
      ]
    },
    {
      "cell_type": "markdown",
      "metadata": {
        "id": "6teP5kx2wL92"
      },
      "source": [
        "info関数でデータを詳細に見るといくつか問題点があることがわかります。\n",
        "\n",
        "* 数値以外の情報がある (sex, embarked, classなど)\n",
        "* 欠損値がある (ege, fareなど)\n"
      ]
    },
    {
      "cell_type": "code",
      "metadata": {
        "id": "m1w2cAu0sphv"
      },
      "source": [
        "df = df.drop(['who', 'adult_male', 'embark_town', 'alive', 'alone'], axis=1)\n",
        "#df = df.drop(['who', 'embark_town', 'alive'], axis=1)"
      ],
      "execution_count": 19,
      "outputs": []
    },
    {
      "cell_type": "code",
      "metadata": {
        "colab": {
          "base_uri": "https://localhost:8080/"
        },
        "id": "7Ch7mNE6fz0b",
        "outputId": "840a1bd1-b494-4e6a-f042-791696e70f09"
      },
      "source": [
        "df.info()"
      ],
      "execution_count": 20,
      "outputs": [
        {
          "output_type": "stream",
          "text": [
            "<class 'pandas.core.frame.DataFrame'>\n",
            "RangeIndex: 891 entries, 0 to 890\n",
            "Data columns (total 10 columns):\n",
            " #   Column    Non-Null Count  Dtype   \n",
            "---  ------    --------------  -----   \n",
            " 0   survived  891 non-null    int64   \n",
            " 1   pclass    891 non-null    int64   \n",
            " 2   sex       891 non-null    object  \n",
            " 3   age       714 non-null    float64 \n",
            " 4   sibsp     891 non-null    int64   \n",
            " 5   parch     891 non-null    int64   \n",
            " 6   fare      891 non-null    float64 \n",
            " 7   embarked  889 non-null    object  \n",
            " 8   class     891 non-null    category\n",
            " 9   deck      203 non-null    category\n",
            "dtypes: category(2), float64(2), int64(4), object(2)\n",
            "memory usage: 58.0+ KB\n"
          ],
          "name": "stdout"
        }
      ]
    },
    {
      "cell_type": "code",
      "metadata": {
        "colab": {
          "base_uri": "https://localhost:8080/",
          "height": 142
        },
        "id": "J9hYLuX0fGZ2",
        "outputId": "65bfbd25-e4e0-49e5-e318-d772de12cae0"
      },
      "source": [
        "df.head(3)"
      ],
      "execution_count": 21,
      "outputs": [
        {
          "output_type": "execute_result",
          "data": {
            "text/html": [
              "<div>\n",
              "<style scoped>\n",
              "    .dataframe tbody tr th:only-of-type {\n",
              "        vertical-align: middle;\n",
              "    }\n",
              "\n",
              "    .dataframe tbody tr th {\n",
              "        vertical-align: top;\n",
              "    }\n",
              "\n",
              "    .dataframe thead th {\n",
              "        text-align: right;\n",
              "    }\n",
              "</style>\n",
              "<table border=\"1\" class=\"dataframe\">\n",
              "  <thead>\n",
              "    <tr style=\"text-align: right;\">\n",
              "      <th></th>\n",
              "      <th>survived</th>\n",
              "      <th>pclass</th>\n",
              "      <th>sex</th>\n",
              "      <th>age</th>\n",
              "      <th>sibsp</th>\n",
              "      <th>parch</th>\n",
              "      <th>fare</th>\n",
              "      <th>embarked</th>\n",
              "      <th>class</th>\n",
              "      <th>deck</th>\n",
              "    </tr>\n",
              "  </thead>\n",
              "  <tbody>\n",
              "    <tr>\n",
              "      <th>0</th>\n",
              "      <td>0</td>\n",
              "      <td>3</td>\n",
              "      <td>male</td>\n",
              "      <td>22.0</td>\n",
              "      <td>1</td>\n",
              "      <td>0</td>\n",
              "      <td>7.2500</td>\n",
              "      <td>S</td>\n",
              "      <td>Third</td>\n",
              "      <td>NaN</td>\n",
              "    </tr>\n",
              "    <tr>\n",
              "      <th>1</th>\n",
              "      <td>1</td>\n",
              "      <td>1</td>\n",
              "      <td>female</td>\n",
              "      <td>38.0</td>\n",
              "      <td>1</td>\n",
              "      <td>0</td>\n",
              "      <td>71.2833</td>\n",
              "      <td>C</td>\n",
              "      <td>First</td>\n",
              "      <td>C</td>\n",
              "    </tr>\n",
              "    <tr>\n",
              "      <th>2</th>\n",
              "      <td>1</td>\n",
              "      <td>3</td>\n",
              "      <td>female</td>\n",
              "      <td>26.0</td>\n",
              "      <td>0</td>\n",
              "      <td>0</td>\n",
              "      <td>7.9250</td>\n",
              "      <td>S</td>\n",
              "      <td>Third</td>\n",
              "      <td>NaN</td>\n",
              "    </tr>\n",
              "  </tbody>\n",
              "</table>\n",
              "</div>"
            ],
            "text/plain": [
              "   survived  pclass     sex   age  sibsp  parch     fare embarked  class deck\n",
              "0         0       3    male  22.0      1      0   7.2500        S  Third  NaN\n",
              "1         1       1  female  38.0      1      0  71.2833        C  First    C\n",
              "2         1       3  female  26.0      0      0   7.9250        S  Third  NaN"
            ]
          },
          "metadata": {
            "tags": []
          },
          "execution_count": 21
        }
      ]
    },
    {
      "cell_type": "code",
      "metadata": {
        "id": "Gs7WJMpUc3sX"
      },
      "source": [
        "# 文字列形式のデータを数値に置き換え\n",
        "encode_cols = ['sex', 'embarked', 'class', 'deck']\n",
        "lbl = LabelEncoder()\n",
        "for f in encode_cols:\n",
        "    df[f] = lbl.fit_transform(list(df[f].values))"
      ],
      "execution_count": 22,
      "outputs": []
    },
    {
      "cell_type": "code",
      "metadata": {
        "colab": {
          "base_uri": "https://localhost:8080/",
          "height": 142
        },
        "id": "s8UPe8VLc7vx",
        "outputId": "4a7ab683-501f-4a35-ef0b-4461537aee4b"
      },
      "source": [
        "df.head(3)"
      ],
      "execution_count": 23,
      "outputs": [
        {
          "output_type": "execute_result",
          "data": {
            "text/html": [
              "<div>\n",
              "<style scoped>\n",
              "    .dataframe tbody tr th:only-of-type {\n",
              "        vertical-align: middle;\n",
              "    }\n",
              "\n",
              "    .dataframe tbody tr th {\n",
              "        vertical-align: top;\n",
              "    }\n",
              "\n",
              "    .dataframe thead th {\n",
              "        text-align: right;\n",
              "    }\n",
              "</style>\n",
              "<table border=\"1\" class=\"dataframe\">\n",
              "  <thead>\n",
              "    <tr style=\"text-align: right;\">\n",
              "      <th></th>\n",
              "      <th>survived</th>\n",
              "      <th>pclass</th>\n",
              "      <th>sex</th>\n",
              "      <th>age</th>\n",
              "      <th>sibsp</th>\n",
              "      <th>parch</th>\n",
              "      <th>fare</th>\n",
              "      <th>embarked</th>\n",
              "      <th>class</th>\n",
              "      <th>deck</th>\n",
              "    </tr>\n",
              "  </thead>\n",
              "  <tbody>\n",
              "    <tr>\n",
              "      <th>0</th>\n",
              "      <td>0</td>\n",
              "      <td>3</td>\n",
              "      <td>1</td>\n",
              "      <td>22.0</td>\n",
              "      <td>1</td>\n",
              "      <td>0</td>\n",
              "      <td>7.2500</td>\n",
              "      <td>2</td>\n",
              "      <td>2</td>\n",
              "      <td>7</td>\n",
              "    </tr>\n",
              "    <tr>\n",
              "      <th>1</th>\n",
              "      <td>1</td>\n",
              "      <td>1</td>\n",
              "      <td>0</td>\n",
              "      <td>38.0</td>\n",
              "      <td>1</td>\n",
              "      <td>0</td>\n",
              "      <td>71.2833</td>\n",
              "      <td>0</td>\n",
              "      <td>0</td>\n",
              "      <td>2</td>\n",
              "    </tr>\n",
              "    <tr>\n",
              "      <th>2</th>\n",
              "      <td>1</td>\n",
              "      <td>3</td>\n",
              "      <td>0</td>\n",
              "      <td>26.0</td>\n",
              "      <td>0</td>\n",
              "      <td>0</td>\n",
              "      <td>7.9250</td>\n",
              "      <td>2</td>\n",
              "      <td>2</td>\n",
              "      <td>7</td>\n",
              "    </tr>\n",
              "  </tbody>\n",
              "</table>\n",
              "</div>"
            ],
            "text/plain": [
              "   survived  pclass  sex   age  sibsp  parch     fare  embarked  class  deck\n",
              "0         0       3    1  22.0      1      0   7.2500         2      2     7\n",
              "1         1       1    0  38.0      1      0  71.2833         0      0     2\n",
              "2         1       3    0  26.0      0      0   7.9250         2      2     7"
            ]
          },
          "metadata": {
            "tags": []
          },
          "execution_count": 23
        }
      ]
    },
    {
      "cell_type": "code",
      "metadata": {
        "colab": {
          "base_uri": "https://localhost:8080/"
        },
        "id": "bMYvtXPszdYz",
        "outputId": "edf4aea3-b2a8-4f51-c739-20e8e5a7d939"
      },
      "source": [
        "df.info()"
      ],
      "execution_count": 24,
      "outputs": [
        {
          "output_type": "stream",
          "text": [
            "<class 'pandas.core.frame.DataFrame'>\n",
            "RangeIndex: 891 entries, 0 to 890\n",
            "Data columns (total 10 columns):\n",
            " #   Column    Non-Null Count  Dtype  \n",
            "---  ------    --------------  -----  \n",
            " 0   survived  891 non-null    int64  \n",
            " 1   pclass    891 non-null    int64  \n",
            " 2   sex       891 non-null    int64  \n",
            " 3   age       714 non-null    float64\n",
            " 4   sibsp     891 non-null    int64  \n",
            " 5   parch     891 non-null    int64  \n",
            " 6   fare      891 non-null    float64\n",
            " 7   embarked  891 non-null    int64  \n",
            " 8   class     891 non-null    int64  \n",
            " 9   deck      891 non-null    int64  \n",
            "dtypes: float64(2), int64(8)\n",
            "memory usage: 69.7 KB\n"
          ],
          "name": "stdout"
        }
      ]
    },
    {
      "cell_type": "code",
      "metadata": {
        "id": "RsTzQ7XrgFVG"
      },
      "source": [
        "# 数値系データの欠損値を平均値で補完\n",
        "encode_cols = ['age']\n",
        "\n",
        "for f in encode_cols:\n",
        "    df[f].fillna(df[f].mean(), inplace=True)"
      ],
      "execution_count": 25,
      "outputs": []
    },
    {
      "cell_type": "code",
      "metadata": {
        "colab": {
          "base_uri": "https://localhost:8080/"
        },
        "id": "uHVqFmYjhqNL",
        "outputId": "f6ffb687-ea64-44c1-8607-1b60e9b016cd"
      },
      "source": [
        "df.info()"
      ],
      "execution_count": 26,
      "outputs": [
        {
          "output_type": "stream",
          "text": [
            "<class 'pandas.core.frame.DataFrame'>\n",
            "RangeIndex: 891 entries, 0 to 890\n",
            "Data columns (total 10 columns):\n",
            " #   Column    Non-Null Count  Dtype  \n",
            "---  ------    --------------  -----  \n",
            " 0   survived  891 non-null    int64  \n",
            " 1   pclass    891 non-null    int64  \n",
            " 2   sex       891 non-null    int64  \n",
            " 3   age       891 non-null    float64\n",
            " 4   sibsp     891 non-null    int64  \n",
            " 5   parch     891 non-null    int64  \n",
            " 6   fare      891 non-null    float64\n",
            " 7   embarked  891 non-null    int64  \n",
            " 8   class     891 non-null    int64  \n",
            " 9   deck      891 non-null    int64  \n",
            "dtypes: float64(2), int64(8)\n",
            "memory usage: 69.7 KB\n"
          ],
          "name": "stdout"
        }
      ]
    },
    {
      "cell_type": "code",
      "metadata": {
        "id": "bsmo3VQDhu2o"
      },
      "source": [
        "# 生存を予測するモデルを作るので、特徴量は['survived']を外したものとする\n",
        "X = df.drop(['survived'], axis=1)\n",
        "# 目的変数はsurvivedとする。\n",
        "y = df['survived'].values"
      ],
      "execution_count": 27,
      "outputs": []
    },
    {
      "cell_type": "code",
      "metadata": {
        "id": "rK5ZNFYKPNef"
      },
      "source": [
        "# 学習データ: テストデータ=7:3で分割する\n",
        "X_train, X_test, y_train, y_test = train_test_split(X, y, test_size=0.3, random_state=42, stratify=y)"
      ],
      "execution_count": 28,
      "outputs": []
    },
    {
      "cell_type": "code",
      "metadata": {
        "id": "AdKZaS4CfPss"
      },
      "source": [
        "X_train.to_csv('X_train.csv', index=False)\n",
        "X_test.to_csv('X_test.csv', index=False)\n",
        "#np.savetxt('y_train.txt', y_train)\n",
        "#np.savetxt('y_test.txt', y_test)"
      ],
      "execution_count": 29,
      "outputs": []
    },
    {
      "cell_type": "code",
      "metadata": {
        "id": "JoVDv2HegyCz"
      },
      "source": [
        "#X_train = pd.read_csv('X_train.csv')\n",
        "#X_test = pd.read_csv('X_test.csv')\n",
        "#y_train = np.loadtxt('y_train.txt', np.int32)\n",
        "#y_test = np.loadtxt('y_test.txt', np.int32)"
      ],
      "execution_count": 30,
      "outputs": []
    },
    {
      "cell_type": "code",
      "metadata": {
        "colab": {
          "base_uri": "https://localhost:8080/",
          "height": 142
        },
        "id": "D1O1UghqiAHm",
        "outputId": "b7696717-7592-4879-9629-107cb9634818"
      },
      "source": [
        "X_train.head(3)"
      ],
      "execution_count": 31,
      "outputs": [
        {
          "output_type": "execute_result",
          "data": {
            "text/html": [
              "<div>\n",
              "<style scoped>\n",
              "    .dataframe tbody tr th:only-of-type {\n",
              "        vertical-align: middle;\n",
              "    }\n",
              "\n",
              "    .dataframe tbody tr th {\n",
              "        vertical-align: top;\n",
              "    }\n",
              "\n",
              "    .dataframe thead th {\n",
              "        text-align: right;\n",
              "    }\n",
              "</style>\n",
              "<table border=\"1\" class=\"dataframe\">\n",
              "  <thead>\n",
              "    <tr style=\"text-align: right;\">\n",
              "      <th></th>\n",
              "      <th>pclass</th>\n",
              "      <th>sex</th>\n",
              "      <th>age</th>\n",
              "      <th>sibsp</th>\n",
              "      <th>parch</th>\n",
              "      <th>fare</th>\n",
              "      <th>embarked</th>\n",
              "      <th>class</th>\n",
              "      <th>deck</th>\n",
              "    </tr>\n",
              "  </thead>\n",
              "  <tbody>\n",
              "    <tr>\n",
              "      <th>748</th>\n",
              "      <td>1</td>\n",
              "      <td>1</td>\n",
              "      <td>19.000000</td>\n",
              "      <td>1</td>\n",
              "      <td>0</td>\n",
              "      <td>53.1000</td>\n",
              "      <td>2</td>\n",
              "      <td>0</td>\n",
              "      <td>3</td>\n",
              "    </tr>\n",
              "    <tr>\n",
              "      <th>45</th>\n",
              "      <td>3</td>\n",
              "      <td>1</td>\n",
              "      <td>29.699118</td>\n",
              "      <td>0</td>\n",
              "      <td>0</td>\n",
              "      <td>8.0500</td>\n",
              "      <td>2</td>\n",
              "      <td>2</td>\n",
              "      <td>7</td>\n",
              "    </tr>\n",
              "    <tr>\n",
              "      <th>28</th>\n",
              "      <td>3</td>\n",
              "      <td>0</td>\n",
              "      <td>29.699118</td>\n",
              "      <td>0</td>\n",
              "      <td>0</td>\n",
              "      <td>7.8792</td>\n",
              "      <td>1</td>\n",
              "      <td>2</td>\n",
              "      <td>7</td>\n",
              "    </tr>\n",
              "  </tbody>\n",
              "</table>\n",
              "</div>"
            ],
            "text/plain": [
              "     pclass  sex        age  sibsp  parch     fare  embarked  class  deck\n",
              "748       1    1  19.000000      1      0  53.1000         2      0     3\n",
              "45        3    1  29.699118      0      0   8.0500         2      2     7\n",
              "28        3    0  29.699118      0      0   7.8792         1      2     7"
            ]
          },
          "metadata": {
            "tags": []
          },
          "execution_count": 31
        }
      ]
    },
    {
      "cell_type": "markdown",
      "metadata": {
        "id": "XhiWqOn32MCT"
      },
      "source": [
        "## ランダムフォレストで学習\n"
      ]
    },
    {
      "cell_type": "code",
      "metadata": {
        "id": "vrZXtXu0iU3n"
      },
      "source": [
        "clf = RandomForestClassifier(n_estimators=100, max_depth=2, random_state=42)"
      ],
      "execution_count": 32,
      "outputs": []
    },
    {
      "cell_type": "code",
      "metadata": {
        "colab": {
          "base_uri": "https://localhost:8080/"
        },
        "id": "WqhHpTKIj1zZ",
        "outputId": "8e2bac72-8bf1-423b-ed1f-73f99d1ae395"
      },
      "source": [
        "clf.fit(X_train, y_train)\n",
        "y_pred = clf.predict(X_test)\n",
        "print(y_pred[:10])\n",
        "print(accuracy_score(y_test, y_pred))"
      ],
      "execution_count": 33,
      "outputs": [
        {
          "output_type": "stream",
          "text": [
            "[0 0 0 0 0 0 0 1 0 1]\n",
            "0.8059701492537313\n"
          ],
          "name": "stdout"
        }
      ]
    },
    {
      "cell_type": "markdown",
      "metadata": {
        "id": "QUeReo0S2VeN"
      },
      "source": [
        "## Feature Importanceによる評価\n",
        "\n",
        "Permutation Importanceとの比較のためFeature Importanceによる特徴量の評価をします。  \n",
        "\n",
        "Feature Importanceは、各特徴量の分類寄与率を評価する指標です。  \n",
        "もう少し詳しくいうと、「ある特徴量で分割することでどれくらいジニ不純度を下げられるのか」ということになります。  \n",
        "木構造のアルゴリズムの特性を生かした評価指標になります。\n",
        "\n",
        "\n"
      ]
    },
    {
      "cell_type": "code",
      "metadata": {
        "colab": {
          "base_uri": "https://localhost:8080/",
          "height": 321
        },
        "id": "uN3N4REHkH_Y",
        "outputId": "7b4e595a-9783-4e49-b466-e4e3732cdb45"
      },
      "source": [
        "# Feature Importanceによる重要度の可視化\n",
        "importances = clf.feature_importances_\n",
        "indices = np.argsort(importances)[::-1]\n",
        "plt.figure()\n",
        "plt.title(\"Feature importances\")\n",
        "plt.bar(range(X_test.shape[1]), importances[indices], align=\"center\")\n",
        "plt.xticks(range(X_test.shape[1]), X_test.columns[indices], rotation='vertical')\n",
        "plt.xlim([-1, X_test.shape[1]])\n",
        "plt.show()"
      ],
      "execution_count": 34,
      "outputs": [
        {
          "output_type": "display_data",
          "data": {
            "image/png": "[encoded data removed]",
            "text/plain": [
              "<Figure size 432x288 with 1 Axes>"
            ]
          },
          "metadata": {
            "tags": [],
            "needs_background": "light"
          }
        }
      ]
    },
    {
      "cell_type": "code",
      "metadata": {
        "colab": {
          "base_uri": "https://localhost:8080/"
        },
        "id": "VbbqMzVltKnF",
        "outputId": "205c1cfe-0b92-40a0-b1db-e9daba3e49ba"
      },
      "source": [
        "print(sum(clf.feature_importances_))"
      ],
      "execution_count": 35,
      "outputs": [
        {
          "output_type": "stream",
          "text": [
            "1.0\n"
          ],
          "name": "stdout"
        }
      ]
    },
    {
      "cell_type": "markdown",
      "metadata": {
        "id": "fDGaBTljkpJp"
      },
      "source": [
        "## Permutation Importanceによる評価\n",
        "\n",
        "本題である、Permutation Importanceでの評価をします。 \n",
        "Permutation Importanceは、「ある特徴量がどれだけモデルの予測精度向上に寄与しているのか」を評価する手法です。  \n",
        "評価方法は非常にシンプルで、評価対象の特徴量をランダムに並べ替え、\n",
        "予測精度にどのくらい影響を出すかを評価します。\n",
        "(精度が低下が大きいほど予測に重要な特徴量といえる)\n",
        "\n",
        "Permutation Importanceは、Feature Importanceの以下と比較して以下のメリットがあります。\n",
        "* 木構造のアルゴリズム以外で使える\n",
        "* 学習データとテストデータの両方に対して評価できる(Feature Importanceは、学習データを基準とした評価となる)\n",
        "* 特徴量の算出方法が直感的"
      ]
    },
    {
      "cell_type": "markdown",
      "metadata": {
        "id": "lNuXEhCcWnrh"
      },
      "source": [
        "### 学習データに対するpermutation"
      ]
    },
    {
      "cell_type": "code",
      "metadata": {
        "colab": {
          "base_uri": "https://localhost:8080/",
          "height": 321
        },
        "id": "dccbbhbfQOZJ",
        "outputId": "1f5ae1ba-01b9-4019-8539-972bb04bf700"
      },
      "source": [
        "# 重要度をpermutation_importanceに変更する。\n",
        "permutation_result = permutation_importance(clf, X_train, y_train, n_repeats=10, random_state=0)\n",
        "importances = permutation_result.importances_mean\n",
        "\n",
        "indices = np.argsort(importances)[::-1]\n",
        "\n",
        "fig = plt.figure()\n",
        "plt.title(\"Permutation importances by train\") # タイトルをかえる\n",
        "plt.bar(range(X_test.shape[1]), importances[indices], align=\"center\")\n",
        "plt.xticks(range(X_test.shape[1]), X_test.columns[indices], rotation='vertical')\n",
        "plt.xlim([-1, X_test.shape[1]])\n",
        "plt.show()\n"
      ],
      "execution_count": 36,
      "outputs": [
        {
          "output_type": "display_data",
          "data": {
            "image/png": "[encoded data removed]",
            "text/plain": [
              "<Figure size 432x288 with 1 Axes>"
            ]
          },
          "metadata": {
            "tags": [],
            "needs_background": "light"
          }
        }
      ]
    },
    {
      "cell_type": "markdown",
      "metadata": {
        "id": "crsYqwRhW_PN"
      },
      "source": [
        "### テストデータに対するpermutation"
      ]
    },
    {
      "cell_type": "code",
      "metadata": {
        "colab": {
          "base_uri": "https://localhost:8080/",
          "height": 321
        },
        "id": "0Pv-_w2HWxqH",
        "outputId": "3492ae6b-fa3e-4106-ce41-43ee65d4cdf3"
      },
      "source": [
        "# 重要度をpermutation_importanceに変更する。また、評価対象はテストデータとする。\n",
        "permutation_result = permutation_importance(clf, X_test, y_test, n_repeats=10, random_state=0)\n",
        "importances = permutation_result.importances_mean\n",
        "\n",
        "indices = np.argsort(importances)[::-1]\n",
        "plt.figure()\n",
        "# タイトルをかえる\n",
        "plt.title(\"Permutation importances by test\")\n",
        "plt.bar(range(X_test.shape[1]), importances[indices], align=\"center\")\n",
        "plt.xticks(range(X_test.shape[1]), X_test.columns[indices], rotation='vertical')\n",
        "plt.xlim([-1, X_test.shape[1]])\n",
        "plt.show()"
      ],
      "execution_count": 37,
      "outputs": [
        {
          "output_type": "display_data",
          "data": {
            "image/png": "[encoded data removed]",
            "text/plain": [
              "<Figure size 432x288 with 1 Axes>"
            ]
          },
          "metadata": {
            "tags": [],
            "needs_background": "light"
          }
        }
      ]
    },
    {
      "cell_type": "markdown",
      "metadata": {
        "id": "LnPwdTdnNbQ8"
      },
      "source": [
        "## 特徴量の削減"
      ]
    },
    {
      "cell_type": "code",
      "metadata": {
        "id": "0PT_a2XalvA1"
      },
      "source": [
        "drop_list = [\"fare\"]\n",
        "X_train_2 = X_train.drop(drop_list, axis=1)\n",
        "X_test_2 = X_test.drop(drop_list, axis=1)"
      ],
      "execution_count": 38,
      "outputs": []
    },
    {
      "cell_type": "code",
      "metadata": {
        "colab": {
          "base_uri": "https://localhost:8080/"
        },
        "id": "OPm_lIwrn9lE",
        "outputId": "f8f9389f-7bc3-459e-a699-695b4b7d662b"
      },
      "source": [
        "clf.fit(X_train_2, y_train)\n",
        "y_pred = clf.predict(X_test_2)\n",
        "accuracy_score(y_test, y_pred)"
      ],
      "execution_count": 39,
      "outputs": [
        {
          "output_type": "execute_result",
          "data": {
            "text/plain": [
              "0.8097014925373134"
            ]
          },
          "metadata": {
            "tags": []
          },
          "execution_count": 39
        }
      ]
    },
    {
      "cell_type": "code",
      "metadata": {
        "id": "l-jqU7zEoQcq",
        "colab": {
          "base_uri": "https://localhost:8080/",
          "height": 625
        },
        "outputId": "8b2099e2-e4da-4dee-bfd6-3419cd5b42ca"
      },
      "source": [
        "\n",
        "\"\"\" 学習データに対する評価 \"\"\"\n",
        "permutation_result = permutation_importance(clf, X_train_2, y_train, n_repeats=10, random_state=0)\n",
        "importances = permutation_result.importances_mean\n",
        "indices = np.argsort(importances)[::-1]\n",
        "plt.figure()\n",
        "plt.title(\"Permutation importances by train\")\n",
        "plt.bar(range(X_test_2.shape[1]), importances[indices], align=\"center\")\n",
        "plt.xticks(range(X_test_2.shape[1]), X_test_2.columns[indices], rotation='vertical')\n",
        "plt.xlim([-1, X_test_2.shape[1]])\n",
        "\n",
        "\"\"\" テストデータに対する評価 \"\"\"\n",
        "permutation_result = permutation_importance(clf, X_test_2, y_test, n_repeats=10,\n",
        "                                random_state=0)\n",
        "importances = permutation_result.importances_mean\n",
        "indices = np.argsort(importances)[::-1]\n",
        "plt.figure()\n",
        "plt.title(\"Permutation importances by test\")\n",
        "plt.bar(range(X_test_2.shape[1]), importances[indices], align=\"center\")\n",
        "plt.xticks(range(X_test_2.shape[1]), X_test_2.columns[indices], rotation='vertical')\n",
        "plt.xlim([-1, X_test_2.shape[1]])\n",
        "plt.show()"
      ],
      "execution_count": 40,
      "outputs": [
        {
          "output_type": "display_data",
          "data": {
            "image/png": "[encoded data removed]",
            "text/plain": [
              "<Figure size 432x288 with 1 Axes>"
            ]
          },
          "metadata": {
            "tags": [],
            "needs_background": "light"
          }
        },
        {
          "output_type": "display_data",
          "data": {
            "image/png": "[encoded data removed]",
            "text/plain": [
              "<Figure size 432x288 with 1 Axes>"
            ]
          },
          "metadata": {
            "tags": [],
            "needs_background": "light"
          }
        }
      ]
    }
  ]
}